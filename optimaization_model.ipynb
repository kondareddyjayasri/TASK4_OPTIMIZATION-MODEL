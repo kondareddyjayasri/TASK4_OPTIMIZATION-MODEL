{
  "nbformat": 4,
  "nbformat_minor": 0,
  "metadata": {
    "colab": {
      "provenance": []
    },
    "kernelspec": {
      "name": "python3",
      "display_name": "Python 3"
    },
    "language_info": {
      "name": "python"
    }
  },
  "cells": [
    {
      "cell_type": "code",
      "execution_count": 1,
      "metadata": {
        "colab": {
          "base_uri": "https://localhost:8080/"
        },
        "id": "MylNjIDFVVEO",
        "outputId": "1ff79b15-b7fa-484d-ab3f-287ed7314337"
      },
      "outputs": [
        {
          "output_type": "stream",
          "name": "stdout",
          "text": [
            "Collecting pulp\n",
            "  Downloading pulp-3.2.1-py3-none-any.whl.metadata (6.9 kB)\n",
            "Downloading pulp-3.2.1-py3-none-any.whl (16.4 MB)\n",
            "\u001b[2K   \u001b[90m━━━━━━━━━━━━━━━━━━━━━━━━━━━━━━━━━━━━━━━━\u001b[0m \u001b[32m16.4/16.4 MB\u001b[0m \u001b[31m53.3 MB/s\u001b[0m eta \u001b[36m0:00:00\u001b[0m\n",
            "\u001b[?25hInstalling collected packages: pulp\n",
            "Successfully installed pulp-3.2.1\n",
            "Status: Optimal\n",
            "Optimal units of Product A to produce: 40.0\n",
            "Optimal units of Product B to produce: 20.0\n",
            "Maximum Profit: ₹2600.0\n"
          ]
        }
      ],
      "source": [
        "!pip install pulp\n",
        "import pulp\n",
        "model = pulp.LpProblem(\"Maximize_Profit\", pulp.LpMaximize)\n",
        "A = pulp.LpVariable(\"Product_A\", lowBound=0, cat='Integer')\n",
        "B = pulp.LpVariable(\"Product_B\", lowBound=0, cat='Integer')\n",
        "model += 40 * A + 50 * B, \"Total_Profit\"\n",
        "model += 2 * A + 1 * B <= 100, \"Machine_1_Limit\"\n",
        "model += 1 * A + 2 * B <= 80, \"Machine_2_Limit\"\n",
        "model.solve()\n",
        "print(\"Status:\", pulp.LpStatus[model.status])\n",
        "print(f\"Optimal units of Product A to produce: {A.varValue}\")\n",
        "print(f\"Optimal units of Product B to produce: {B.varValue}\")\n",
        "print(f\"Maximum Profit: ₹{pulp.value(model.objective)}\")\n"
      ]
    }
  ]
}